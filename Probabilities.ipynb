{
 "cells": [
  {
   "cell_type": "markdown",
   "metadata": {},
   "source": [
    "# Probabilities Calculation Functions Using Bayes Theorem\n",
    "Scarlett Hwang | April 14th, 2020"
   ]
  },
  {
   "cell_type": "code",
   "execution_count": 1,
   "metadata": {},
   "outputs": [],
   "source": [
    "# Sample error table for debugging\n",
    "# Table will be passed in as a command line argument from error_table.py eventually\n",
    "table = {' ': {' ': 247},\n",
    " '(': {'(': 1},\n",
    " ')': {')': 1},\n",
    " ',': {',': 20},\n",
    " '-': {'-': 4},\n",
    " '.': {'.': 15},\n",
    " '2': {'2': 4},\n",
    " 'A': {'A': 1},\n",
    " 'C': {'C': 3},\n",
    " 'F': {'F': 1},\n",
    " 'H': {'H': 1},\n",
    " 'O': {'0': 1, 'O': 4},\n",
    " 'S': {'S': 1},\n",
    " 'T': {'T': 8},\n",
    " 'W': {'W': 3},\n",
    " '_': {'_': 4},\n",
    " 'a': {'a': 114},\n",
    " 'b': {'b': 18},\n",
    " 'c': {'c': 40},\n",
    " 'd': {'d': 45},\n",
    " 'e': {'e': 171},\n",
    " 'f': {'f': 25},\n",
    " 'g': {'g': 16},\n",
    " 'h': {'h': 76},\n",
    " 'i': {'I': 1, 'i': 85},\n",
    " 'k': {'k': 7},\n",
    " 'l': {'f': 1, 'i': 1, 'l': 55, 't': 1},\n",
    " 'm': {'m': 38},\n",
    " 'n': {'n': 72},\n",
    " 'o': {'o': 91},\n",
    " 'p': {'p': 23},\n",
    " 'q': {'q': 6},\n",
    " 'r': {'F': 1, 'r': 76},\n",
    " 's': {'s': 84},\n",
    " 't': {'t': 122},\n",
    " 'u': {'u': 35},\n",
    " 'v': {'v': 10},\n",
    " 'w': {'w': 18},\n",
    " 'x': {'x': 1},\n",
    " 'y': {'y': 13},\n",
    " 'z': {'z': 5},\n",
    " '{': {'{': 4},\n",
    " '}': {')': 1, '}': 3}}"
   ]
  },
  {
   "cell_type": "code",
   "execution_count": 11,
   "metadata": {},
   "outputs": [],
   "source": [
    "# Pr(c1|c2)\n",
    "# c2: Original letter\n",
    "# c1: Converted letter\n",
    "\n",
    "def char_based_pr(conv, orig):\n",
    "    if conv in table[orig]:\n",
    "        return table[orig][conv]/sum(table[orig].values())\n",
    "    else:\n",
    "        return 0"
   ]
  },
  {
   "cell_type": "code",
   "execution_count": 12,
   "metadata": {},
   "outputs": [
    {
     "data": {
      "text/plain": [
       "0.017241379310344827"
      ]
     },
     "execution_count": 12,
     "metadata": {},
     "output_type": "execute_result"
    }
   ],
   "source": [
    "char_based_pr('f', 'l')"
   ]
  },
  {
   "cell_type": "code",
   "execution_count": 13,
   "metadata": {},
   "outputs": [
    {
     "data": {
      "text/plain": [
       "1.0"
      ]
     },
     "execution_count": 13,
     "metadata": {},
     "output_type": "execute_result"
    }
   ],
   "source": [
    "char_based_pr('m', 'm')"
   ]
  },
  {
   "cell_type": "code",
   "execution_count": 16,
   "metadata": {},
   "outputs": [],
   "source": [
    "# Pr(w1|w2)\n",
    "# w2: Original word\n",
    "# w1: Converted word\n",
    "\n",
    "def word_based_pr(conv, orig):\n",
    "    word_p = 1\n",
    "    for i, j in zip(orig, conv):\n",
    "        print(word_p)\n",
    "        char_p = char_based_pr(j, i)\n",
    "        word_p = word_p * char_p\n",
    "    print(word_p)"
   ]
  },
  {
   "cell_type": "code",
   "execution_count": 17,
   "metadata": {},
   "outputs": [
    {
     "name": "stdout",
     "output_type": "stream",
     "text": [
      "1\n",
      "1.0\n",
      "1.0\n",
      "1.0\n",
      "0.9482758620689655\n",
      "0.0\n"
     ]
    }
   ],
   "source": [
    "# Result is 0.0, meaning that applc cannot be formed from apple according to the sample error \n",
    "# table (which is very limited)\n",
    "word_based_pr('applc', 'apple')"
   ]
  },
  {
   "cell_type": "code",
   "execution_count": null,
   "metadata": {},
   "outputs": [],
   "source": []
  }
 ],
 "metadata": {
  "kernelspec": {
   "display_name": "Python 3",
   "language": "python",
   "name": "python3"
  },
  "language_info": {
   "codemirror_mode": {
    "name": "ipython",
    "version": 3
   },
   "file_extension": ".py",
   "mimetype": "text/x-python",
   "name": "python",
   "nbconvert_exporter": "python",
   "pygments_lexer": "ipython3",
   "version": "3.6.9"
  }
 },
 "nbformat": 4,
 "nbformat_minor": 2
}
