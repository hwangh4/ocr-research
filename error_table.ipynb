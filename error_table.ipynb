{
 "cells": [
  {
   "cell_type": "markdown",
   "metadata": {},
   "source": [
    "# Error Table Generation Code Using Python difflib Library\n",
    "Scarlett Hwang, April 1st, 2020"
   ]
  },
  {
   "cell_type": "markdown",
   "metadata": {},
   "source": [
    "### Import libraries"
   ]
  },
  {
   "cell_type": "code",
   "execution_count": 36,
   "metadata": {},
   "outputs": [],
   "source": [
    "import difflib as dl\n",
    "import r2e\n",
    "import itertools"
   ]
  },
  {
   "cell_type": "markdown",
   "metadata": {},
   "source": [
    "### Call test texts"
   ]
  },
  {
   "cell_type": "code",
   "execution_count": 10,
   "metadata": {},
   "outputs": [],
   "source": [
    "# Call test texts\n",
    "\n",
    "# 50 lines\n",
    "o = open(\"moby_dick-orig/moby_dick-orig-chunk-aa.txt\", \"r\").read()\n",
    "c = open(\"moby_dick-orig/moby_dick-orig-chunk-aa-converted.txt\", \"r\").read()\n",
    "\n",
    "# 10 lines\n",
    "# o = open(\"moby_dick-10/moby_dick-orig-chunk-ab.txt\", \"r\").read()\n",
    "# c = open(\"moby_dick-10/moby_dick-orig-chunk-ab-converted.txt\", \"r\").read()"
   ]
  },
  {
   "cell_type": "markdown",
   "metadata": {},
   "source": [
    "### Alter format"
   ]
  },
  {
   "cell_type": "code",
   "execution_count": 11,
   "metadata": {},
   "outputs": [],
   "source": [
    "# strip new line characters\n",
    "o = [x.strip() for x in o.split(\"\\n\")]\n",
    "c = [x.strip() for x in c.split(\"\\n\")]\n",
    "\n",
    "o = [x for x in o if x != '']\n",
    "c = [x for x in c if x != '']"
   ]
  },
  {
   "cell_type": "markdown",
   "metadata": {},
   "source": [
    "### Initiate dictionary generation function"
   ]
  },
  {
   "cell_type": "code",
   "execution_count": 12,
   "metadata": {},
   "outputs": [],
   "source": [
    "def make_dict(list):\n",
    "    global table\n",
    "    i = -1\n",
    "\n",
    "    # iterate through char array\n",
    "    while i < len(list) - 1:\n",
    "        i += 1\n",
    "        indicator = list[i][0]\n",
    "        ch = list[i][2]\n",
    "\n",
    "        # 1) CORRECT - if original and converted chars match (successfully recognized)\n",
    "        if indicator == \" \":\n",
    "            chdict = table.get(ch, {})\n",
    "            chdict[ch] = chdict.get(ch, 0) + 1\n",
    "            table[ch] = chdict\n",
    "            continue\n",
    "\n",
    "        # 2) SUBSTITUTED - if char is not the last character and +/- follows -/+\n",
    "        if i + 1 < len(list): \n",
    "            \n",
    "            # adjacent character and its indicator\n",
    "            ch1_ind = list[i + 1][0]\n",
    "            ch1 = list[i + 1][2]\n",
    "            \n",
    "            # (this letter was added first)\n",
    "            if (indicator == \"+\" and ch1_ind == \"-\"): \n",
    "                chdict = table.get(ch1, {})\n",
    "                chdict[ch] = chdict.get(ch, 0) + 1\n",
    "                table[ch1] = chdict\n",
    "                i += 1 # increment i and skip next char\n",
    "                continue\n",
    "                \n",
    "            # (this letter was deleted first)\n",
    "            if (indicator == \"-\" and ch1_ind == \"+\"):\n",
    "                chdict = table.get(ch, {})\n",
    "                chdict[ch1] = chdict.get(ch1, 0) + 1\n",
    "                table[ch] = chdict\n",
    "                i += 1 # increment i and skip next char\n",
    "                continue\n",
    "\n",
    "        # 3) DELETED - if char is not followed by another indicator and this indicator is \"-\"\n",
    "        if indicator == \"-\":\n",
    "            chdict = table.get(ch, {})\n",
    "            chdict[\"Del\"] = chdict.get(\"Del\", 0) + 1\n",
    "            table[ch] = chdict\n",
    "\n",
    "        # 4) INSERTED - if char is not followed by another indicator and this indicator is \"+\" \n",
    "        elif indicator == \"+\":\n",
    "            chdict = table.get(\"Del\", {})\n",
    "            chdict[ch] = chdict.get(ch, 0) + 1\n",
    "            table[\"Del\"] = chdict\n",
    "\n",
    "        # 5) OTHER - pass any edge cases for now (never found so far)\n",
    "        else:\n",
    "            print(\"-- something weird going on ---\", indicator, ch)\n",
    "            pass"
   ]
  },
  {
   "cell_type": "markdown",
   "metadata": {},
   "source": [
    "### Initiate and generate dictionary"
   ]
  },
  {
   "cell_type": "code",
   "execution_count": 17,
   "metadata": {},
   "outputs": [],
   "source": [
    "table = {}\n",
    "for ol, cl in zip(o,c):\n",
    "    n = dl.ndiff(ol, cl)\n",
    "    list = [i for i in n]\n",
    "    make_dict(list)"
   ]
  },
  {
   "cell_type": "markdown",
   "metadata": {},
   "source": [
    "### Quality check - print dictionary"
   ]
  },
  {
   "cell_type": "code",
   "execution_count": 18,
   "metadata": {},
   "outputs": [
    {
     "data": {
      "text/plain": [
       "{'C': {'C': 7},\n",
       " 'H': {'H': 3},\n",
       " 'A': {'A': 3},\n",
       " 'P': {'P': 2},\n",
       " 'T': {'T': 8},\n",
       " 'E': {'E': 1},\n",
       " 'R': {'R': 2},\n",
       " ' ': {' ': 468, 'Del': 14, 'f': 1},\n",
       " '1': {'Del': 1},\n",
       " '.': {'4': 1, '.': 23, 'Del': 2, ',': 3},\n",
       " 'Del': {',': 1, '‘': 6, 't': 2, 'o': 1, 'e': 1, 'p': 1, 'a': 1},\n",
       " 'L': {'L': 2},\n",
       " 'o': {'o': 173, '‘': 1, 'e': 1},\n",
       " 'm': {'m': 68},\n",
       " 'i': {'i': 147, 'l': 1},\n",
       " 'n': {'n': 157, 'l': 1},\n",
       " 'g': {'g': 52},\n",
       " 's': {'s': 157, 'e': 1},\n",
       " 'a': {'a': 166, 't': 1},\n",
       " 'l': {'l': 94, 'j': 1, 'Del': 7, 't': 6, 'i': 5, 'f': 2},\n",
       " 'e': {'e': 310},\n",
       " 'I': {'I': 3,\n",
       "  'H': 2,\n",
       "  '[': 1,\n",
       "  'i': 2,\n",
       "  'F': 2,\n",
       "  't': 1,\n",
       "  'o': 1,\n",
       "  '{': 1,\n",
       "  'Del': 2},\n",
       " 'h': {'h': 136},\n",
       " 'S': {'S': 6},\n",
       " 'y': {'y': 54},\n",
       " 'r': {'r': 136, 't': 2, '‘': 1, 'Del': 1},\n",
       " '—': {'—': 7, '_': 1, ' ': 1},\n",
       " 'v': {'v': 23},\n",
       " 'd': {'d': 76},\n",
       " 'w': {'w': 45},\n",
       " 'p': {'p': 43, 'Del': 1},\n",
       " 'c': {'c': 41, 'o': 2, 'Del': 2},\n",
       " 't': {'t': 206, 'i': 2, 'Del': 3, 'l': 1, 'f': 1},\n",
       " 'u': {'u': 67},\n",
       " ',': {',': 30, 'Del': 2},\n",
       " 'b': {'b': 27, '‘': 1},\n",
       " 'f': {'f': 51, 'Del': 3, \"'\": 1},\n",
       " 'W': {'W': 5},\n",
       " ';': {';': 7, ',': 1, ':': 1, 'Del': 1},\n",
       " 'z': {'z': 4},\n",
       " 'N': {'N': 3},\n",
       " 'q': {'q': 2},\n",
       " 'k': {'k': 15},\n",
       " '’': {\"'\": 1},\n",
       " 'M': {'M': 1},\n",
       " 'x': {'x': 3},\n",
       " '-': {'-': 2},\n",
       " 'G': {'G': 1},\n",
       " '?': {'?': 5},\n",
       " 'B': {'B': 2},\n",
       " '!': {'!': 2},\n",
       " 'j': {'j': 1},\n",
       " 'Y': {'Y': 1},\n",
       " 'O': {'O': 1}}"
      ]
     },
     "execution_count": 18,
     "metadata": {},
     "output_type": "execute_result"
    }
   ],
   "source": [
    "table"
   ]
  }
 ],
 "metadata": {
  "kernelspec": {
   "display_name": "Python 3",
   "language": "python",
   "name": "python3"
  },
  "language_info": {
   "codemirror_mode": {
    "name": "ipython",
    "version": 3
   },
   "file_extension": ".py",
   "mimetype": "text/x-python",
   "name": "python",
   "nbconvert_exporter": "python",
   "pygments_lexer": "ipython3",
   "version": "3.7.3"
  }
 },
 "nbformat": 4,
 "nbformat_minor": 2
}
